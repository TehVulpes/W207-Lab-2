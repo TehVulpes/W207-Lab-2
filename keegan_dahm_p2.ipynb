{
  "nbformat": 4,
  "nbformat_minor": 0,
  "metadata": {
    "colab": {
      "name": "Copy of firstname_lastname_p2.ipynb",
      "private_outputs": true,
      "provenance": [],
      "collapsed_sections": []
    },
    "kernelspec": {
      "display_name": "Python 3",
      "language": "python",
      "name": "python3"
    },
    "language_info": {
      "codemirror_mode": {
        "name": "ipython",
        "version": 3
      },
      "file_extension": ".py",
      "mimetype": "text/x-python",
      "name": "python",
      "nbconvert_exporter": "python",
      "pygments_lexer": "ipython3",
      "version": "3.7.4"
    },
    "toc": {
      "base_numbering": 1,
      "nav_menu": {},
      "number_sections": false,
      "sideBar": true,
      "skip_h1_title": true,
      "title_cell": "Table of Contents",
      "title_sidebar": "Contents",
      "toc_cell": false,
      "toc_position": {},
      "toc_section_display": true,
      "toc_window_display": false
    }
  },
  "cells": [
    {
      "cell_type": "markdown",
      "metadata": {
        "id": "6t55qCf3Fsxa"
      },
      "source": [
        "# Project 2: Topic Classification"
      ]
    },
    {
      "cell_type": "markdown",
      "metadata": {
        "id": "j9-9G8z4Fsxd"
      },
      "source": [
        "In this project, you'll work with text data from newsgroup posts on a variety of topics. You'll train classifiers to distinguish posts by topics inferred from the text. Whereas with digit classification, where each input is relatively dense (represented as a 28x28 matrix of pixels, many of which are non-zero), here each document is relatively sparse (represented as a bag-of-words). Only a few words of the total vocabulary are active in any given document. The assumption is that a label depends only on the count of words, not their order.\n",
        "\n",
        "The `sklearn` documentation on feature extraction may be useful:\n",
        "http://scikit-learn.org/stable/modules/feature_extraction.html\n",
        "\n",
        "Each problem can be addressed succinctly with the included packages -- please don't add any more. Grading will be based on writing clean, commented code, along with a few short answers.\n",
        "\n",
        "As always, you're welcome to work on the project in groups and discuss ideas on Slack, but <b> please prepare your own write-up with your own code. </b>"
      ]
    },
    {
      "cell_type": "code",
      "metadata": {
        "id": "AUYW83LqFsxd"
      },
      "source": [
        "# This tells matplotlib not to try opening a new window for each plot.\n",
        "%matplotlib inline\n",
        "\n",
        "# General libraries.\n",
        "import re\n",
        "import numpy as np\n",
        "import matplotlib.pyplot as plt\n",
        "\n",
        "# SK-learn libraries for learning.\n",
        "from sklearn.pipeline import Pipeline\n",
        "from sklearn.neighbors import KNeighborsClassifier\n",
        "from sklearn.linear_model import LogisticRegression\n",
        "from sklearn.naive_bayes import BernoulliNB\n",
        "from sklearn.naive_bayes import MultinomialNB\n",
        "\n",
        "# SK-learn libraries for evaluation.\n",
        "from sklearn.metrics import confusion_matrix\n",
        "from sklearn import metrics\n",
        "from sklearn.metrics import classification_report\n",
        "\n",
        "# SK-learn library for importing the newsgroup data.\n",
        "from sklearn.datasets import fetch_20newsgroups\n",
        "\n",
        "# SK-learn libraries for feature extraction from text.\n",
        "from sklearn.feature_extraction.text import *\n",
        "\n",
        "import nltk"
      ],
      "execution_count": null,
      "outputs": []
    },
    {
      "cell_type": "markdown",
      "metadata": {
        "id": "_ALNjGgCFsxg"
      },
      "source": [
        "Load the data, stripping out metadata so that only textual features will be used, and restricting documents to 4 specific topics. By default, newsgroups data is split into training and test sets, but here the test set gets further split into development and test sets.  (If you remove the categories argument from the fetch function calls, you'd get documents from all 20 topics.)"
      ]
    },
    {
      "cell_type": "code",
      "metadata": {
        "id": "ecYpcoxaFsxh"
      },
      "source": [
        "categories = ['alt.atheism', 'talk.religion.misc', 'comp.graphics', 'sci.space']\n",
        "newsgroups_train = fetch_20newsgroups(subset='train',\n",
        "                                      remove=('headers', 'footers', 'quotes'),\n",
        "                                      categories=categories)\n",
        "newsgroups_test  = fetch_20newsgroups(subset='test',\n",
        "                                      remove=('headers', 'footers', 'quotes'),\n",
        "                                      categories=categories)\n",
        "\n",
        "num_test = int(len(newsgroups_test.target) / 2)\n",
        "test_data, test_labels   = newsgroups_test.data[num_test:], newsgroups_test.target[num_test:]\n",
        "dev_data, dev_labels     = newsgroups_test.data[:num_test], newsgroups_test.target[:num_test]\n",
        "train_data, train_labels = newsgroups_train.data, newsgroups_train.target\n",
        "\n",
        "print('training label shape:', train_labels.shape)\n",
        "print('dev label shape:',      dev_labels.shape)\n",
        "print('test label shape:',     test_labels.shape)\n",
        "print('labels names:',         newsgroups_train.target_names)\n",
        "label_names = newsgroups_train.target_names"
      ],
      "execution_count": null,
      "outputs": []
    },
    {
      "cell_type": "markdown",
      "metadata": {
        "id": "OHTnOke6Fsxk"
      },
      "source": [
        "### Part 1:\n",
        "\n",
        "For each of the first 5 training examples, print the text of the message along with the label."
      ]
    },
    {
      "cell_type": "code",
      "metadata": {
        "id": "X8zhA06xFsxl"
      },
      "source": [
        "def P1(num_examples=5):\n",
        "    ### STUDENT START ###\n",
        "    for example, label in zip(train_data[:num_examples], train_labels[:num_examples]):\n",
        "        print(f'{label_names[label]}:\\n{example}\\n\\n================\\n================\\n\\n')\n",
        "    ### STUDENT END ###\n",
        "\n",
        "P1(5)"
      ],
      "execution_count": null,
      "outputs": []
    },
    {
      "cell_type": "markdown",
      "metadata": {
        "id": "onfno6uHFsxm"
      },
      "source": [
        "### Part 2:\n",
        "\n",
        "Transform the training data into a matrix of **word** unigram feature vectors.  What is the size of the vocabulary? What is the average number of non-zero features per example?  What is the fraction of the non-zero entries in the matrix?  What are the 0th and last feature strings (in alphabetical order)?<br/>\n",
        "_Use `CountVectorization` and its `.fit_transform` method.  Use `.nnz` and `.shape` attributes, and `.get_feature_names` method._\n",
        "\n",
        "Now transform the training data into a matrix of **word** unigram feature vectors using your own vocabulary with these 4 words: [\"atheism\", \"graphics\", \"space\", \"religion\"].  Confirm the size of the vocabulary. What is the average number of non-zero features per example?<br/>\n",
        "_Use `CountVectorization(vocabulary=...)` and its `.transform` method._\n",
        "\n",
        "Now transform the training data into a matrix of **character** bigram and trigram feature vectors.  What is the size of the vocabulary?<br/>\n",
        "_Use `CountVectorization(analyzer=..., ngram_range=...)` and its `.fit_transform` method._\n",
        "\n",
        "Now transform the training data into a matrix of **word** unigram feature vectors and prune words that appear in fewer than 10 documents.  What is the size of the vocabulary?<br/>\n",
        "_Use `CountVectorization(min_df=...)` and its `.fit_transform` method._\n",
        "\n",
        "Now again transform the training data into a matrix of **word** unigram feature vectors. What is the fraction of words in the development vocabulary that is missing from the training vocabulary?<br/>\n",
        "_Hint: Build vocabularies for both train and dev and look at the size of the difference._\n",
        "\n",
        "Notes:\n",
        "* `.fit_transform` makes 2 passes through the data: first it computes the vocabulary (\"fit\"), second it converts the raw text into feature vectors using the vocabulary (\"transform\").\n",
        "* `.fit_transform` and `.transform` return sparse matrix objects.  See about them at http://docs.scipy.org/doc/scipy-0.14.0/reference/generated/scipy.sparse.csr_matrix.html.  "
      ]
    },
    {
      "cell_type": "code",
      "metadata": {
        "id": "LyVwk5RvFsxn"
      },
      "source": [
        "def P2():\n",
        "    ### STUDENT START ###\n",
        "    vec = CountVectorizer()\n",
        "    X = vec.fit_transform(train_data, train_labels)\n",
        "    features = vec.get_feature_names()\n",
        "    features.sort()\n",
        "\n",
        "    print('Making basic vectorizer...')\n",
        "\n",
        "    print(f'\\tIn the training data, the total vocabulary is {len(vec.get_feature_names())} words')\n",
        "    print(f'\\tThe average non-zero matrix entries per sample is {sum(x.nnz for x in X) / X.shape[0]}')\n",
        "    print(f'\\tThe fraction of non-zero / total matrix items is {X.nnz} / {X.shape[0] * X.shape[1]}, or {X.nnz / (X.shape[0] * X.shape[1])}')\n",
        "    print(f'\\tThe 0th feature is \"{features[0]}\", and the last is \"{features[-1]}\"')\n",
        "\n",
        "    print()\n",
        "    print('Making vectorizer with limited vocabulary...')\n",
        "\n",
        "    vec = CountVectorizer(vocabulary=['atheism', 'graphics', 'space', 'religion'])\n",
        "    X = vec.transform(train_data)\n",
        "    print(f'\\tThe vocabulary of the new dataset is {vec.get_feature_names()}')\n",
        "    print(f'\\tThe average number of nonzero features per sample is {sum(x.nnz for x in X) / X.shape[0]}')\n",
        "\n",
        "    print()\n",
        "    print('Making vectorizer for character [2, 3]-grams...')\n",
        "\n",
        "    vec = CountVectorizer(analyzer='char', ngram_range=(2, 3))\n",
        "    X = vec.fit_transform(train_data, train_labels)\n",
        "    print(f'\\tThe vocabulary size of the new dataset is {len(vec.get_feature_names())}')\n",
        "\n",
        "    print()\n",
        "    print('Making vectorizer that prunes words showing up in <10 documents...')\n",
        "    \n",
        "    vec = CountVectorizer(min_df=10)\n",
        "    X = vec.fit_transform(train_data, train_labels)\n",
        "    print(f'\\tThe vocabulary size of the new dataset is {len(vec.get_feature_names())}')\n",
        "\n",
        "    print()\n",
        "    print('Checking for words in the dev dataset missing in the training dataset...')\n",
        "    train_features = set(features)\n",
        "    vec = CountVectorizer()\n",
        "    vec.fit_transform(dev_data, dev_labels)\n",
        "    dev_features = set(vec.get_feature_names())\n",
        "\n",
        "    dev_minus_training = dev_features - train_features\n",
        "    print(f'\\tOf the {len(dev_features)} words in the dev vocab, {len(dev_minus_training)} are not in the training set.')\n",
        "    ### STUDENT END ###\n",
        "\n",
        "P2()"
      ],
      "execution_count": null,
      "outputs": []
    },
    {
      "cell_type": "markdown",
      "metadata": {
        "id": "ydjkRh6LFsxp"
      },
      "source": [
        "### Part 3:\n",
        "\n",
        "Transform the training and development data to matrices of word unigram feature vectors.\n",
        "\n",
        "1. Produce several k-Nearest Neigbors models by varying k, including one with k set to optimize f1 score.  For each model, show the k value and f1 score.\n",
        "1. Produce several Naive Bayes models by varying smoothing (alpha), including one with alpha set approximately to optimize f1 score.  For each model, show the alpha value and f1 score.\n",
        "1. Produce several Logistic Regression models by varying L2 regularization strength (C), including one with C set approximately to optimize f1 score.  For each model, show the C value, f1 score, and sum of squared weights for each topic.\n",
        "\n",
        "* Why doesn't k-Nearest Neighbors work well for this problem?\n",
        "* Why doesn't Logistic Regression work as well as Naive Bayes does?\n",
        "* What is the relationship between logistic regression's sum of squared weights vs. C value?\n",
        "\n",
        "Notes:\n",
        "* Train on the transformed training data.\n",
        "* Evaluate on the transformed development data.\n",
        "* You can use `CountVectorizer` and its `.fit_transform` and `.transform` methods to transform data.\n",
        "* You can use `KNeighborsClassifier(...)` to produce a k-Nearest Neighbors model.\n",
        "* You can use `MultinomialNB(...)` to produce a Naive Bayes model.\n",
        "* You can use `LogisticRegression(C=..., solver=\"liblinear\", multi_class=\"auto\")` to produce a Logistic Regression model.\n",
        "* You can use `LogisticRegression`'s `.coef_` method to get weights for each topic.\n",
        "* You can use `metrics.f1_score(..., average=\"weighted\")` to compute f1 score."
      ]
    },
    {
      "cell_type": "code",
      "metadata": {
        "id": "VvhpODdWFsxp"
      },
      "source": [
        "def P3():\n",
        "    ### STUDENT START ###\n",
        "    # These train_X and dev_X are reused for each group\n",
        "    train_vec = CountVectorizer()\n",
        "    train_X = train_vec.fit_transform(train_data, train_labels)\n",
        "    dev_X = train_vec.transform(dev_data)\n",
        "\n",
        "    # KNN\n",
        "    print('K Nearest Neighbors')\n",
        "    for k in range(1, 12, 2):\n",
        "        knn = KNeighborsClassifier(k)\n",
        "        knn.fit(train_X, train_labels)\n",
        "\n",
        "        predicted_labels = knn.predict(dev_X)\n",
        "        f1_score = metrics.f1_score(dev_labels, predicted_labels, average='weighted')\n",
        "        print(f'\\tk = {k}:\\tf-1 score: {f1_score}')\n",
        "    \n",
        "    print()\n",
        "    print('K Nearest Neighbors doesn\\'t work well for this problem because of the number of features.')\n",
        "    print('KNN performs better with fewer dimensions and with more clustered data, while this data')\n",
        "    print('has most of its values on the periphery of all the dimensions.')\n",
        "\n",
        "    print()\n",
        "\n",
        "    # Naive Bayes\n",
        "    print('Naive Bayes')\n",
        "    for exp in range(-3, 4):\n",
        "        alpha = 10 ** exp\n",
        "        mnb = MultinomialNB(alpha=alpha)\n",
        "        mnb.fit(train_X, train_labels)\n",
        "\n",
        "        predicted_labels = mnb.predict(dev_X)\n",
        "        f1_score = metrics.f1_score(dev_labels, predicted_labels, average='weighted')\n",
        "        print(f'\\tα = {alpha}:  \\tf-1 score: {f1_score}')\n",
        "\n",
        "    print()\n",
        "\n",
        "    # Logistic Regression\n",
        "    print('Logistic Regression')\n",
        "    for exp in range(-3, 4):\n",
        "        c = 10 ** exp\n",
        "        lr = LogisticRegression(C=c, solver='liblinear', multi_class='auto')\n",
        "        lr.fit(train_X, train_labels)\n",
        "\n",
        "        predicted_labels = lr.predict(dev_X)\n",
        "        f1_score = metrics.f1_score(dev_labels, predicted_labels, average='weighted')\n",
        "        print(f'\\tC = {c}:  \\tf-1 score: {f1_score}')\n",
        "        print('\\t\\tSum of squared weights:\\t' + ',\\t'.join(f'{label_names[i]}: {sum(w * w for w in topic):0.5}' for i, topic in enumerate(lr.coef_)))\n",
        "\n",
        "    print()\n",
        "\n",
        "    print('Linear Regression performed worse than Naive Bayes because the labels for this data are descriptive, not')\n",
        "    print('numeric. NB is able to learn categorical relationships between features that Linear Regression has trouble with.')\n",
        "\n",
        "    print()\n",
        "\n",
        "    print('The higher the C value, the higher the sum of squared weights for each category. At first glance,')\n",
        "    print('the sum of squared weights increases roughly linearly with C for the values tested.')\n",
        "\n",
        "    ### STUDENT END ###\n",
        "\n",
        "P3()"
      ],
      "execution_count": null,
      "outputs": []
    },
    {
      "cell_type": "markdown",
      "metadata": {
        "id": "jWtXwAlOFsxr"
      },
      "source": [
        "*ANSWER*:"
      ]
    },
    {
      "cell_type": "markdown",
      "metadata": {
        "id": "dGEjsm_uFsxr"
      },
      "source": [
        "### Part 4:\n",
        "\n",
        "Transform the data to a matrix of word **bigram** feature vectors.  Produce a Logistic Regression model.  For each topic, find the 5 features with the largest weights (that's 20 features in total).  Show a 20 row (features) x 4 column (topics) table of the weights.\n",
        "\n",
        "Do you see any surprising features in this table?\n",
        "\n",
        "Notes:\n",
        "* Train on the transformed training data.\n",
        "* You can use `CountVectorizer` and its `.fit_transform` method to transform data.\n",
        "* You can use `LogisticRegression(C=0.5, solver=\"liblinear\", multi_class=\"auto\")` to produce a Logistic Regression model.\n",
        "* You can use `LogisticRegression`'s `.coef_` method to get weights for each topic.\n",
        "* You can use `np.argsort` to get indices sorted by element value. "
      ]
    },
    {
      "cell_type": "code",
      "metadata": {
        "id": "WN51Nv4fFsxs"
      },
      "source": [
        "def P4():\n",
        "    ### STUDENT START ###\n",
        "    # First, figure out the vocab and train a LR on it\n",
        "    vec = CountVectorizer(ngram_range=(2, 2))\n",
        "    X = vec.fit_transform(train_data, train_labels)\n",
        "    vocab = vec.get_feature_names()\n",
        "\n",
        "    lr = LogisticRegression(C=0.5, solver='liblinear', multi_class='auto')\n",
        "    lr.fit(X, train_labels)\n",
        "\n",
        "    # Now, find the most significant weights\n",
        "    sorted_weights = lr.coef_.argsort()\n",
        "    \n",
        "    # This next code just organizes printing into nice columns\n",
        "    feature_highlights = [[], [], [], []]\n",
        "    for i, weights in enumerate(sorted_weights):\n",
        "        feature_highlights[i] += [vocab[w] for w in weights[:-21:-1]]\n",
        "\n",
        "    longest_flen = len(max((max(features, key=len) for features in feature_highlights), key=len))\n",
        "    col_len = longest_flen + 1\n",
        "\n",
        "    for label in label_names:\n",
        "        print(label.ljust(col_len), end='')\n",
        "    print()\n",
        "    print('=' * col_len * 4)\n",
        "\n",
        "    # Print the discovered columns\n",
        "    for row in zip(*feature_highlights):\n",
        "        print(''.join(col.ljust(col_len) for col in row))\n",
        "\n",
        "    print()\n",
        "    print()\n",
        "    print('In this table, I noticed that \"cheers kent\" was the second strongest alt.atheism indicator.')\n",
        "    print('Looking in the dataset, it looks like Kent is very active in the alt.atheism newsgroup.')\n",
        "    print('Picking up on that might be overfitting, and might need manual tweaking to fix.')\n",
        "    print('Beside that, I noticed that alt.atheism had more varied ideological discussion,')\n",
        "    print('talk.religion.misc was mostly focused on Christianity, and the tone of religious language')\n",
        "    print('was a strong indicator between religion and atheism. The space and computer graphics')\n",
        "    print('newsgroups mostly stayed on topic, and their key indicators were domain-specific words.')\n",
        "    print()\n",
        "    print('One thing I noticed in all of them are that there are seemingly low-information pairs of')\n",
        "    print('words, like \"you are\", \"to my\", \"one of\", or \"out the\".')\n",
        "\n",
        "    ### STUDENT END ###\n",
        "\n",
        "P4()"
      ],
      "execution_count": null,
      "outputs": []
    },
    {
      "cell_type": "markdown",
      "metadata": {
        "id": "cY67F-tXFsxt"
      },
      "source": [
        "ANSWER:"
      ]
    },
    {
      "cell_type": "markdown",
      "metadata": {
        "id": "rVWhSJHHFsxu"
      },
      "source": [
        "### Part 5:\n",
        "\n",
        "To improve generalization, it is common to try preprocessing text in various ways before splitting into words. For example, you could try transforming strings to lower case, replacing sequences of numbers with single tokens, removing various non-letter characters, and shortening long words.\n",
        "\n",
        "Produce a Logistic Regression model (with no preprocessing of text).  Evaluate and show its f1 score and size of the dictionary.\n",
        "\n",
        "Produce an improved Logistic Regression model by preprocessing the text.  Evaluate and show its f1 score and size of the vocabulary.  Try for an improvement in f1 score of at least 0.02.\n",
        "\n",
        "How much did the improved model reduce the vocabulary size?\n",
        "\n",
        "Notes:\n",
        "* Train on the transformed training data.\n",
        "* Evaluate on the transformed development data.\n",
        "* You can use `CountVectorizer(preprocessor=...)` to preprocess strings with your own custom-defined function.\n",
        "* `CountVectorizer` default is to preprocess strings to lower case.\n",
        "* You can use `LogisticRegression(C=0.5, solver=\"liblinear\", multi_class=\"auto\")` to produce a logistic regression model.\n",
        "* You can use `metrics.f1_score(..., average=\"weighted\")` to compute f1 score.\n",
        "* If you're not already familiar with regular expressions for manipulating strings, see https://docs.python.org/2/library/re.html, and re.sub() in particular."
      ]
    },
    {
      "cell_type": "code",
      "metadata": {
        "id": "l7gS3cGpFsxv"
      },
      "source": [
        "import re\n",
        "\n",
        "def better_preprocessor(s):\n",
        "    ### STUDENT START ###\n",
        "    import re\n",
        "\n",
        "    s = ' ' + s.lower() + ' '  # Add whitespace on either end to make s easier to work with\n",
        "    s = re.sub(r\"(\\w)'(\\w)\", r'\\1\\2', s)  # Replace quotes in contractions while leaving them elsewhere\n",
        "    s = re.sub(r'\\d+', 'INT', s)  # Replace strings of digits with a single digit\n",
        "    s = re.sub('INT.INT', 'FLOAT', s)  # Keeps decimal point numbers marked\n",
        "    s = re.sub(r'\\s(of|to|in|it|is|as|the)(?=\\s)', '', s)  # Remove common, low-information two-letter words\n",
        "    s = re.sub(r'([\\.\\\\\\-\\/=_]{1,3})\\1+', r' REP\\1 ', s)  # Remove common repetitions\n",
        "    s = re.sub('!+', '!', s)  # TONE!!!!! down!!!!! the! excitement.\n",
        "    s = re.sub(r'\\s(very|extremely)\\s', ' ', s)  # Remove some filler words\n",
        "    s = s.replace('ation', '')  # The model seemingly dislikes \"ation\"\n",
        "    s = re.sub(r'(\\w)([\\.!?])\\s', r'\\1 \\2 ', s)  # Split words into word-ending pairs, to reduce vocab size\n",
        "\n",
        "    return s.strip()\n",
        "    ### STUDENT END ###\n",
        "\n",
        "def P5():\n",
        "    ### STUDENT START ###\n",
        "    # Train a basic vectorizer\n",
        "    vec = CountVectorizer()\n",
        "    X = vec.fit_transform(train_data, train_labels)\n",
        "    dev_X = vec.transform(dev_data)\n",
        "\n",
        "    # Train a vectorizer with my custom preprocessor\n",
        "    custom_vec = CountVectorizer(preprocessor=better_preprocessor)\n",
        "    custom_X = custom_vec.fit_transform(train_data, train_labels)\n",
        "    custom_dev_X = custom_vec.transform(dev_data)\n",
        "\n",
        "    # Get predictions with it and show its performance\n",
        "    lr = LogisticRegression(C=0.5, solver='liblinear', multi_class='auto')\n",
        "    lr.fit(X, train_labels)\n",
        "    pred = lr.predict(dev_X)\n",
        "\n",
        "    custom_lr = LogisticRegression(C=0.5, solver='liblinear', multi_class='auto')\n",
        "    custom_lr.fit(custom_X, train_labels)\n",
        "    custom_pred = custom_lr.predict(custom_dev_X)\n",
        "\n",
        "    print(f'Basic fitness:  {metrics.f1_score(dev_labels, pred, average=\"weighted\")} \\tvocab size: {len(vec.get_feature_names())}')\n",
        "    print(f'Custom fitness: {metrics.f1_score(dev_labels, custom_pred, average=\"weighted\")} \\tvocab size: {len(custom_vec.get_feature_names())}')\n",
        "    print(f'The vocabulary changed by {len(custom_vec.get_feature_names()) - len(vec.get_feature_names()):+} words')\n",
        "    ### STUDENT END ###\n",
        "\n",
        "P5()"
      ],
      "execution_count": null,
      "outputs": []
    },
    {
      "cell_type": "markdown",
      "metadata": {
        "id": "Uy-WITbNFsxw"
      },
      "source": [
        "### Part 6:\n",
        "\n",
        "The idea of regularization is to avoid learning very large weights (which are likely to fit the training data, but not generalize well) by adding a penalty to the total size of the learned weights. Logistic regression seeks the set of weights that minimizes errors in the training data AND has a small total size. The default L2 regularization computes this size as the sum of the squared weights (as in Part 3 above). L1 regularization computes this size as the sum of the absolute values of the weights. Whereas L2 regularization makes all the weights relatively small, L1 regularization drives many of the weights to 0, effectively removing unimportant features.\n",
        "\n",
        "For several L1 regularization strengths ...<br/>\n",
        "* Produce a Logistic Regression model using the **L1** regularization strength.  Reduce the vocabulary to only those features that have at least one non-zero weight among the four categories.  Produce a new Logistic Regression model using the reduced vocabulary and **L2** regularization strength of 0.5.  Evaluate and show the L1 regularization strength, vocabulary size, and f1 score associated with the new model.\n",
        "\n",
        "Show a plot of f1 score vs. log vocabulary size.  Each point corresponds to a specific L1 regularization strength used to reduce the vocabulary.\n",
        "\n",
        "How does performance of the models based on reduced vocabularies compare to that of a model based on the full vocabulary?\n",
        "\n",
        "Notes:\n",
        "* Train on the transformed training data.\n",
        "* Evaluate on the transformed development data.\n",
        "* You can use `LogisticRegression(..., penalty=\"l1\")` to produce a logistic regression model using L1 regularization.\n",
        "* You can use `LogisticRegression(..., penalty=\"l2\")` to produce a logistic regression model using L2 regularization.\n",
        "* You can use `LogisticRegression(..., tol=0.015)` to produce a logistic regression model using relaxed gradient descent convergence criteria.  The gradient descent code that trains the logistic regression model sometimes has trouble converging with extreme settings of the C parameter. Relax the convergence criteria by setting tol=.015 (the default is .0001)."
      ]
    },
    {
      "cell_type": "code",
      "metadata": {
        "id": "l6ho31SrFsxx"
      },
      "source": [
        "def P6():\n",
        "    # Keep this random seed here to make comparison easier.\n",
        "    np.random.seed(0)\n",
        "    \n",
        "    ### STUDENT START ###\n",
        "    import math\n",
        "\n",
        "    vec = CountVectorizer()\n",
        "    X = vec.fit_transform(train_data, train_labels)\n",
        "    labels = vec.get_feature_names()\n",
        "\n",
        "    # Helper function that returns just the needed vocab\n",
        "    def get_vocab(labels, weights):\n",
        "        return [l for l, w in zip(labels, zip(*weights)) if sum(map(abs, w)) > 0]\n",
        "\n",
        "    x = []\n",
        "    y = []\n",
        "\n",
        "    # Iterate over some pre-decided L1 penalties\n",
        "    for c in [0.001, 0.01, 0.1, 0.5, 0.7, 0.9, 1, 10, 100, 1000, 10000, 100000]:\n",
        "        # Train the L1 model and get its vocab\n",
        "        lr = LogisticRegression(C=c, solver=\"liblinear\", multi_class=\"auto\", tol=0.015, penalty='l1')\n",
        "        lr.fit(X, train_labels)\n",
        "\n",
        "        vocab = get_vocab(labels, lr.coef_)\n",
        "\n",
        "        # Sometimes the vocab is empty; skip in this case\n",
        "        if len(vocab) == 0:\n",
        "            print(f'For C={c}, the vocabulary was empty')\n",
        "            continue\n",
        "\n",
        "        # Make and test an L2 model with the chosen vocabulary\n",
        "        smaller_vec = CountVectorizer(vocabulary=vocab)\n",
        "        smaller_X = smaller_vec.transform(train_data)\n",
        "        dev_X = smaller_vec.transform(dev_data)\n",
        "\n",
        "        lr = LogisticRegression(C=0.5, solver='liblinear', multi_class='auto', penalty='l2')\n",
        "        lr.fit(smaller_X, train_labels)\n",
        "        pred = lr.predict(dev_X)\n",
        "\n",
        "        f1 = metrics.f1_score(dev_labels, pred, average='weighted')\n",
        "        print(f'For L1 C={c}, we found a vocab with {len(vocab)} words, with an f1 score of {f1}')\n",
        "        x.append(math.log(len(vocab)))\n",
        "        y.append(f1)\n",
        "\n",
        "    # Draws the scatter plot\n",
        "    plt.scatter(x, y)\n",
        "    plt.title('f1 score vs log vocabulary size')\n",
        "    plt.xlabel('log vocabular size (words)')\n",
        "    plt.ylabel('f1 score')\n",
        "    \n",
        "    ### STUDENT END ###\n",
        "\n",
        "P6()"
      ],
      "execution_count": null,
      "outputs": []
    },
    {
      "cell_type": "markdown",
      "metadata": {
        "id": "bZmIPwExFsx1"
      },
      "source": [
        "ANSWER:"
      ]
    },
    {
      "cell_type": "markdown",
      "metadata": {
        "id": "QmrHf8AMFsxz"
      },
      "source": [
        "### Part 7:\n",
        "\n",
        "How is `TfidfVectorizer` different than `CountVectorizer`?\n",
        "\n",
        "Produce a Logistic Regression model based on data represented in tf-idf form, with L2 regularization strength of 100.  Evaluate and show the f1 score.  How is `TfidfVectorizer` different than `CountVectorizer`?\n",
        "\n",
        "Show the 3 documents with highest R ratio, where ...<br/>\n",
        "$R\\,ratio = maximum\\,predicted\\,probability \\div predicted\\,probability\\,of\\,correct\\,label$\n",
        "\n",
        "Explain what the R ratio describes.  What kinds of mistakes is the model making? Suggest a way to address one particular issue that you see.\n",
        "\n",
        "Note:\n",
        "* Train on the transformed training data.\n",
        "* Evaluate on the transformed development data.\n",
        "* You can use `TfidfVectorizer` and its `.fit_transform` method to transform data to tf-idf form.\n",
        "* You can use `LogisticRegression(C=100, solver=\"liblinear\", multi_class=\"auto\")` to produce a logistic regression model.\n",
        "* You can use `LogisticRegression`'s `.predict_proba` method to access predicted probabilities."
      ]
    },
    {
      "cell_type": "code",
      "metadata": {
        "id": "8vwU_9t2Fsx0"
      },
      "source": [
        "def P7():\n",
        "    ### STUDENT START ###\n",
        "    print('TfidfVectorizer uses TF-IDF rather than count vectorization. It weights unusually important words more heavily.')\n",
        "\n",
        "    vec = TfidfVectorizer()\n",
        "    X = vec.fit_transform(train_data, train_labels)\n",
        "    dev_X = vec.transform(dev_data)\n",
        "\n",
        "    lr = LogisticRegression(C=100, solver='liblinear', multi_class='auto', penalty='l2')\n",
        "    lr.fit(X, train_labels)\n",
        "\n",
        "    pred = lr.predict(dev_X)\n",
        "\n",
        "    f1 = metrics.f1_score(dev_labels, pred, average='weighted')\n",
        "    print(f'The f1 score of the TF-IDF vectorizer is {f1}')\n",
        "    print()\n",
        "    print('The R ratio describes how \"confidently incorrect\" the classifier is. A high score here means the correct')\n",
        "    print('label got a low score, and an incorrect label got a high score. It seems to be applied to unusual discussion')\n",
        "    print('in each newsgroup.')\n",
        "    print()\n",
        "    print('One method of improving this is to remove vocabular words that appear in *only* one label, which can be')\n",
        "    print('too weighty.')\n",
        "\n",
        "    probs = lr.predict_proba(dev_X)\n",
        "\n",
        "    # Helper function to calculate the R ratio\n",
        "    def calculate_R(probs, label):\n",
        "        return max(probs) / probs[label]\n",
        "    \n",
        "    # Sort the label probabilities by their R ratio\n",
        "    sorted_probs = [(calculate_R(p, dev_labels[i]), i) for i, p in enumerate(probs)]\n",
        "    sorted_probs.sort(key=lambda p: p[0])\n",
        "\n",
        "    # Print the 3 documents with the highest R ratios\n",
        "    for R, i in sorted_probs[::-1][:3]:\n",
        "        print('=' * 40)\n",
        "        print(f'R = {R}, label = {label_names[dev_labels[i]]}, predicted = {label_names[pred[i]]}')\n",
        "        print('=' * 40)\n",
        "        print(dev_data[i])\n",
        "        print()\n",
        "        print()\n",
        "        print()\n",
        "\n",
        "    ### STUDENT END ###\n",
        "\n",
        "P7()"
      ],
      "execution_count": null,
      "outputs": []
    },
    {
      "cell_type": "markdown",
      "metadata": {
        "id": "tibA7mYPTpRZ"
      },
      "source": [
        "ANSWER:"
      ]
    },
    {
      "cell_type": "markdown",
      "metadata": {
        "id": "VmsDxtzoFsx1"
      },
      "source": [
        "### Part 8 EXTRA CREDIT:\n",
        "\n",
        "Produce a Logistic Regression model to implement your suggestion from Part 7."
      ]
    },
    {
      "cell_type": "code",
      "metadata": {
        "id": "ZMaqe8c5Fsx2"
      },
      "source": [
        ""
      ],
      "execution_count": null,
      "outputs": []
    }
  ]
}